{
 "cells": [
  {
   "cell_type": "code",
   "execution_count": 2,
   "metadata": {},
   "outputs": [
    {
     "name": "stderr",
     "output_type": "stream",
     "text": [
      "/home/tomasz/anaconda3/lib/python3.6/site-packages/h5py/__init__.py:36: FutureWarning: Conversion of the second argument of issubdtype from `float` to `np.floating` is deprecated. In future, it will be treated as `np.float64 == np.dtype(float).type`.\n",
      "  from ._conv import register_converters as _register_converters\n",
      "Using TensorFlow backend.\n",
      "/home/tomasz/anaconda3/lib/python3.6/site-packages/sklearn/ensemble/weight_boosting.py:29: DeprecationWarning: numpy.core.umath_tests is an internal NumPy module and should not be imported. It will be removed in a future NumPy release.\n",
      "  from numpy.core.umath_tests import inner1d\n"
     ]
    }
   ],
   "source": [
    "import re\n",
    "import numpy as np\n",
    "import matplotlib.pyplot as plt\n",
    "import scipy\n",
    "\n",
    "from sklearn.datasets import fetch_20newsgroups\n",
    "from sklearn.feature_extraction.text import CountVectorizer, TfidfTransformer, TfidfVectorizer\n",
    "from nltk.corpus import stopwords\n",
    "from nltk.stem.snowball import SnowballStemmer\n",
    "from nltk.stem.porter import PorterStemmer\n",
    "from nltk.stem import WordNetLemmatizer \n",
    "from nltk import word_tokenize \n",
    "\n",
    "import keras\n",
    "from keras.datasets import mnist\n",
    "from keras.utils import to_categorical\n",
    "from keras import models\n",
    "from keras import layers\n",
    "\n",
    "from sklearn import linear_model, tree, neighbors, model_selection, svm\n",
    "from sklearn.pipeline import Pipeline\n",
    "from sklearn.model_selection import GridSearchCV\n",
    "from sklearn.ensemble import forest\n",
    "\n",
    "\n",
    "def StemmedTokenizer():\n",
    "    stemmer = SnowballStemmer(\"english\", ignore_stopwords=True)\n",
    "    return lambda articles: [stemmer.stem(t) for t in word_tokenize(articles)]\n",
    "\n",
    "def LemmaTokenizer():\n",
    "    wnl = WordNetLemmatizer()\n",
    "    return lambda articles: [wnl.lemmatize(t) for t in word_tokenize(articles)]\n",
    "\n",
    "def pipeline(train, test):\n",
    "    pipe = Pipeline([\n",
    "        ('tfidf', TfidfVectorizer(stop_words='english', tokenizer = StemmedTokenizer())), \n",
    "        ('dtc', tree.DecisionTreeClassifier())\n",
    "    ])\n",
    "    pipe = pipe.fit(train.data, train.target)\n",
    "    predicted = pipe.predict(test.data)\n",
    "    print('Pipeline acc: %s' % np.mean(predicted == test.target))\n",
    "\n",
    "def grid_search_method(train_data, train_target, test_data, test_target, model, params):\n",
    "    gs_clf = GridSearchCV(model, params, n_jobs=-1, verbose=10)\n",
    "    gs_clf = gs_clf.fit(train_data, train_target)\n",
    "    print(\"Best score: %s\" % gs_clf.best_score_)\n",
    "    print(\"Best param: %s\" % gs_clf.best_params_)\n",
    "    print('Accuracy of best model: %s' % np.mean(gs_clf.predict(test_data) == test_target))\n",
    "\n",
    "def print_history(history):\n",
    "    epochs = range(len(history.history['acc']))\n",
    "    plt.plot(epochs, history.history['loss'], 'bo', label='Training loss')\n",
    "    plt.plot(epochs, history.history['val_loss'], 'b', label='Validation loss')\n",
    "    plt.title('Training and validation loss')\n",
    "    plt.xlabel('Epochs')\n",
    "    plt.ylabel('Loss')\n",
    "    plt.legend()\n"
   ]
  },
  {
   "cell_type": "code",
   "execution_count": 20,
   "metadata": {},
   "outputs": [],
   "source": [
    "# parameters = {\n",
    "#         'n_neighbors': [1, 15],  \n",
    "#         'algorithm': ('auto', 'ball_tree', 'kd_tree', 'brute')\n",
    "#     }\n",
    "# grid_search_method(train_tfidf, train.target, test_tfidf, test.target, forest, parameters)\n",
    "\n",
    "# parameters = {\n",
    "#         'C': [1., 3., 7., 10., 15., 20., 25., 30., 36., 41.],\n",
    "#         'gamma': [.01, .05, .1, .15, .2, .25, .3, .4, .8, 1., 1.5, 2., 4.]\n",
    "#     }\n",
    "# grid_search_method(train_tfidf, train.target, test_tfidf, test.target, svc, parameters)"
   ]
  },
  {
   "cell_type": "code",
   "execution_count": 5,
   "metadata": {},
   "outputs": [
    {
     "name": "stdout",
     "output_type": "stream",
     "text": [
      "Shape:  (11314, 179367)\n"
     ]
    }
   ],
   "source": [
    "# train = fetch_20newsgroups(subset='train', shuffle=True, remove=('headers', 'footers'))\n",
    "# test = fetch_20newsgroups(subset='test', shuffle=True, remove=('headers', 'footers'))\n",
    "train = fetch_20newsgroups(subset='train', shuffle=True)\n",
    "test = fetch_20newsgroups(subset='test', shuffle=True)\n",
    "cleanup_regex = r'(_)|(\\d[0-9.]*)'\n",
    "vectorizer = TfidfVectorizer(stop_words='english',\n",
    "#                                     tokenizer = StemmedTokenizer(),\n",
    "                                    tokenizer = LemmaTokenizer(),\n",
    "#                                     min_df = 3,\n",
    "#                                     max_df = 0.8,\n",
    "                                    use_idf = True,\n",
    "                                    lowercase = True)\n",
    "#                                     preprocessor = lambda x: re.sub(cleanup_regex, ' ', x.lower()))\n",
    "vectorizer.fit(train.data)\n",
    "train_tfidf = vectorizer.transform(train.data)\n",
    "test_tfidf = vectorizer.transform(test.data)\n",
    "print(\"Shape: \", train_tfidf.shape)"
   ]
  },
  {
   "cell_type": "code",
   "execution_count": 18,
   "metadata": {},
   "outputs": [
    {
     "name": "stdout",
     "output_type": "stream",
     "text": [
      "Random forest acc: 0.7728359001593202\n"
     ]
    }
   ],
   "source": [
    "forestClass = forest.RandomForestClassifier(n_estimators = 900, max_depth=100, n_jobs=-1)\n",
    "forestClass.fit(train_tfidf, train.target)\n",
    "print('Random forest acc: %s' % np.mean(forestClass.predict(test_tfidf) == test.target))"
   ]
  },
  {
   "cell_type": "code",
   "execution_count": 65,
   "metadata": {},
   "outputs": [
    {
     "name": "stdout",
     "output_type": "stream",
     "text": [
      "AVC acc: 0.5665161975570897\n"
     ]
    }
   ],
   "source": [
    "decision_tree = tree.DecisionTreeClassifier()\n",
    "decision_tree.fit(train_tfidf, train.target)\n",
    "print('Tree acc: %s' % np.mean(decision_tree.predict(test_tfidf) == test.target))"
   ]
  },
  {
   "cell_type": "code",
   "execution_count": 14,
   "metadata": {},
   "outputs": [
    {
     "name": "stdout",
     "output_type": "stream",
     "text": [
      "AVC acc: 0.8317843866171004\n"
     ]
    }
   ],
   "source": [
    "svc = svm.SVC(C=20., gamma=0.1)  # acc 0.83 21. 0.1\n",
    "svc.fit(train_tfidf, train.target)\n",
    "print('AVC acc: %s' % np.mean(svc.predict(test_tfidf) == test.target))"
   ]
  },
  {
   "cell_type": "code",
   "execution_count": 11,
   "metadata": {},
   "outputs": [
    {
     "name": "stdout",
     "output_type": "stream",
     "text": [
      "KNN acc: 0.6975570897503983\n"
     ]
    }
   ],
   "source": [
    "knn = neighbors.KNeighborsClassifier(16, leaf_size = 2, n_jobs=-1, metric = 'minkowski')\n",
    "knn.fit(train_tfidf, train.target)\n",
    "print('KNN acc: %s' % np.mean(knn.predict(test_tfidf) == test.target))"
   ]
  },
  {
   "cell_type": "code",
   "execution_count": 6,
   "metadata": {},
   "outputs": [
    {
     "name": "stderr",
     "output_type": "stream",
     "text": [
      "/home/tomasz/.local/lib/python3.6/site-packages/keras/activations.py:211: UserWarning: Do not pass a layer instance (such as LeakyReLU) as the activation argument of another layer. Instead, advanced activation layers should be used just like any other layer in a model.\n",
      "  identifier=identifier.__class__.__name__))\n"
     ]
    },
    {
     "name": "stdout",
     "output_type": "stream",
     "text": [
      "Train on 11314 samples, validate on 7532 samples\n",
      "Epoch 1/12\n",
      "11314/11314 [==============================] - 107s 9ms/step - loss: 2.4272 - acc: 0.7626 - val_loss: 1.9672 - val_acc: 0.8080\n",
      "Epoch 2/12\n",
      "11314/11314 [==============================] - 103s 9ms/step - loss: 1.2142 - acc: 0.9393 - val_loss: 1.1661 - val_acc: 0.8366\n",
      "Epoch 3/12\n",
      "11314/11314 [==============================] - 100s 9ms/step - loss: 0.5307 - acc: 0.9649 - val_loss: 0.7889 - val_acc: 0.8518\n",
      "Epoch 4/12\n",
      "11314/11314 [==============================] - 97s 9ms/step - loss: 0.2534 - acc: 0.9788 - val_loss: 0.6252 - val_acc: 0.8557\n",
      "Epoch 5/12\n",
      "11314/11314 [==============================] - 2016s 178ms/step - loss: 0.1354 - acc: 0.9862 - val_loss: 0.5467 - val_acc: 0.8575\n",
      "Epoch 6/12\n",
      "11314/11314 [==============================] - 108s 10ms/step - loss: 0.0768 - acc: 0.9913 - val_loss: 0.5088 - val_acc: 0.8599\n",
      "Epoch 7/12\n",
      "11314/11314 [==============================] - 102s 9ms/step - loss: 0.0456 - acc: 0.9946 - val_loss: 0.4888 - val_acc: 0.8621\n",
      "Epoch 8/12\n",
      "11314/11314 [==============================] - 98s 9ms/step - loss: 0.0281 - acc: 0.9961 - val_loss: 0.4809 - val_acc: 0.8623\n",
      "Epoch 9/12\n",
      "11314/11314 [==============================] - 87s 8ms/step - loss: 0.0177 - acc: 0.9975 - val_loss: 0.4866 - val_acc: 0.8595\n",
      "Epoch 10/12\n",
      "11314/11314 [==============================] - 87s 8ms/step - loss: 0.0114 - acc: 0.9987 - val_loss: 0.4902 - val_acc: 0.8611\n",
      "Epoch 11/12\n",
      "11314/11314 [==============================] - 90s 8ms/step - loss: 0.0078 - acc: 0.9989 - val_loss: 0.5001 - val_acc: 0.8614\n",
      "Epoch 12/12\n",
      " 3584/11314 [========>.....................] - ETA: 52s - loss: 0.0070 - acc: 0.9992"
     ]
    },
    {
     "ename": "KeyboardInterrupt",
     "evalue": "",
     "output_type": "error",
     "traceback": [
      "\u001b[0;31m---------------------------------------------------------------------------\u001b[0m",
      "\u001b[0;31mKeyboardInterrupt\u001b[0m                         Traceback (most recent call last)",
      "\u001b[0;32m<ipython-input-6-d4fd659d615d>\u001b[0m in \u001b[0;36m<module>\u001b[0;34m()\u001b[0m\n\u001b[1;32m     11\u001b[0m                       \u001b[0mepochs\u001b[0m\u001b[0;34m=\u001b[0m\u001b[0;36m12\u001b[0m\u001b[0;34m,\u001b[0m\u001b[0;34m\u001b[0m\u001b[0m\n\u001b[1;32m     12\u001b[0m                       \u001b[0mbatch_size\u001b[0m\u001b[0;34m=\u001b[0m\u001b[0;36m128\u001b[0m\u001b[0;34m,\u001b[0m\u001b[0;34m\u001b[0m\u001b[0m\n\u001b[0;32m---> 13\u001b[0;31m                       validation_data=(test_tfidf, test_labels_oneHot))\n\u001b[0m\u001b[1;32m     14\u001b[0m \u001b[0mprint\u001b[0m\u001b[0;34m(\u001b[0m\u001b[0;34m\"Final accuracy: \"\u001b[0m\u001b[0;34m,\u001b[0m \u001b[0mnetwork\u001b[0m\u001b[0;34m.\u001b[0m\u001b[0mevaluate\u001b[0m\u001b[0;34m(\u001b[0m\u001b[0mtest_tfidf\u001b[0m\u001b[0;34m,\u001b[0m \u001b[0mtest_labels_oneHot\u001b[0m\u001b[0;34m,\u001b[0m \u001b[0mverbose\u001b[0m\u001b[0;34m=\u001b[0m\u001b[0;36m0\u001b[0m\u001b[0;34m)\u001b[0m\u001b[0;34m[\u001b[0m\u001b[0;36m1\u001b[0m\u001b[0;34m]\u001b[0m \u001b[0;34m)\u001b[0m\u001b[0;34m\u001b[0m\u001b[0m\n\u001b[1;32m     15\u001b[0m \u001b[0mprint_history\u001b[0m\u001b[0;34m(\u001b[0m\u001b[0mhistory\u001b[0m\u001b[0;34m)\u001b[0m\u001b[0;34m\u001b[0m\u001b[0m\n",
      "\u001b[0;32m~/.local/lib/python3.6/site-packages/keras/engine/training.py\u001b[0m in \u001b[0;36mfit\u001b[0;34m(self, x, y, batch_size, epochs, verbose, callbacks, validation_split, validation_data, shuffle, class_weight, sample_weight, initial_epoch, steps_per_epoch, validation_steps, **kwargs)\u001b[0m\n\u001b[1;32m   1037\u001b[0m                                         \u001b[0minitial_epoch\u001b[0m\u001b[0;34m=\u001b[0m\u001b[0minitial_epoch\u001b[0m\u001b[0;34m,\u001b[0m\u001b[0;34m\u001b[0m\u001b[0m\n\u001b[1;32m   1038\u001b[0m                                         \u001b[0msteps_per_epoch\u001b[0m\u001b[0;34m=\u001b[0m\u001b[0msteps_per_epoch\u001b[0m\u001b[0;34m,\u001b[0m\u001b[0;34m\u001b[0m\u001b[0m\n\u001b[0;32m-> 1039\u001b[0;31m                                         validation_steps=validation_steps)\n\u001b[0m\u001b[1;32m   1040\u001b[0m \u001b[0;34m\u001b[0m\u001b[0m\n\u001b[1;32m   1041\u001b[0m     def evaluate(self, x=None, y=None,\n",
      "\u001b[0;32m~/.local/lib/python3.6/site-packages/keras/engine/training_arrays.py\u001b[0m in \u001b[0;36mfit_loop\u001b[0;34m(model, f, ins, out_labels, batch_size, epochs, verbose, callbacks, val_f, val_ins, shuffle, callback_metrics, initial_epoch, steps_per_epoch, validation_steps)\u001b[0m\n\u001b[1;32m    197\u001b[0m                     \u001b[0mins_batch\u001b[0m\u001b[0;34m[\u001b[0m\u001b[0mi\u001b[0m\u001b[0;34m]\u001b[0m \u001b[0;34m=\u001b[0m \u001b[0mins_batch\u001b[0m\u001b[0;34m[\u001b[0m\u001b[0mi\u001b[0m\u001b[0;34m]\u001b[0m\u001b[0;34m.\u001b[0m\u001b[0mtoarray\u001b[0m\u001b[0;34m(\u001b[0m\u001b[0;34m)\u001b[0m\u001b[0;34m\u001b[0m\u001b[0m\n\u001b[1;32m    198\u001b[0m \u001b[0;34m\u001b[0m\u001b[0m\n\u001b[0;32m--> 199\u001b[0;31m                 \u001b[0mouts\u001b[0m \u001b[0;34m=\u001b[0m \u001b[0mf\u001b[0m\u001b[0;34m(\u001b[0m\u001b[0mins_batch\u001b[0m\u001b[0;34m)\u001b[0m\u001b[0;34m\u001b[0m\u001b[0m\n\u001b[0m\u001b[1;32m    200\u001b[0m                 \u001b[0mouts\u001b[0m \u001b[0;34m=\u001b[0m \u001b[0mto_list\u001b[0m\u001b[0;34m(\u001b[0m\u001b[0mouts\u001b[0m\u001b[0;34m)\u001b[0m\u001b[0;34m\u001b[0m\u001b[0m\n\u001b[1;32m    201\u001b[0m                 \u001b[0;32mfor\u001b[0m \u001b[0ml\u001b[0m\u001b[0;34m,\u001b[0m \u001b[0mo\u001b[0m \u001b[0;32min\u001b[0m \u001b[0mzip\u001b[0m\u001b[0;34m(\u001b[0m\u001b[0mout_labels\u001b[0m\u001b[0;34m,\u001b[0m \u001b[0mouts\u001b[0m\u001b[0;34m)\u001b[0m\u001b[0;34m:\u001b[0m\u001b[0;34m\u001b[0m\u001b[0m\n",
      "\u001b[0;32m~/.local/lib/python3.6/site-packages/keras/backend/tensorflow_backend.py\u001b[0m in \u001b[0;36m__call__\u001b[0;34m(self, inputs)\u001b[0m\n\u001b[1;32m   2713\u001b[0m                 \u001b[0;32mreturn\u001b[0m \u001b[0mself\u001b[0m\u001b[0;34m.\u001b[0m\u001b[0m_legacy_call\u001b[0m\u001b[0;34m(\u001b[0m\u001b[0minputs\u001b[0m\u001b[0;34m)\u001b[0m\u001b[0;34m\u001b[0m\u001b[0m\n\u001b[1;32m   2714\u001b[0m \u001b[0;34m\u001b[0m\u001b[0m\n\u001b[0;32m-> 2715\u001b[0;31m             \u001b[0;32mreturn\u001b[0m \u001b[0mself\u001b[0m\u001b[0;34m.\u001b[0m\u001b[0m_call\u001b[0m\u001b[0;34m(\u001b[0m\u001b[0minputs\u001b[0m\u001b[0;34m)\u001b[0m\u001b[0;34m\u001b[0m\u001b[0m\n\u001b[0m\u001b[1;32m   2716\u001b[0m         \u001b[0;32melse\u001b[0m\u001b[0;34m:\u001b[0m\u001b[0;34m\u001b[0m\u001b[0m\n\u001b[1;32m   2717\u001b[0m             \u001b[0;32mif\u001b[0m \u001b[0mpy_any\u001b[0m\u001b[0;34m(\u001b[0m\u001b[0mis_tensor\u001b[0m\u001b[0;34m(\u001b[0m\u001b[0mx\u001b[0m\u001b[0;34m)\u001b[0m \u001b[0;32mfor\u001b[0m \u001b[0mx\u001b[0m \u001b[0;32min\u001b[0m \u001b[0minputs\u001b[0m\u001b[0;34m)\u001b[0m\u001b[0;34m:\u001b[0m\u001b[0;34m\u001b[0m\u001b[0m\n",
      "\u001b[0;32m~/.local/lib/python3.6/site-packages/keras/backend/tensorflow_backend.py\u001b[0m in \u001b[0;36m_call\u001b[0;34m(self, inputs)\u001b[0m\n\u001b[1;32m   2673\u001b[0m             \u001b[0mfetched\u001b[0m \u001b[0;34m=\u001b[0m \u001b[0mself\u001b[0m\u001b[0;34m.\u001b[0m\u001b[0m_callable_fn\u001b[0m\u001b[0;34m(\u001b[0m\u001b[0;34m*\u001b[0m\u001b[0marray_vals\u001b[0m\u001b[0;34m,\u001b[0m \u001b[0mrun_metadata\u001b[0m\u001b[0;34m=\u001b[0m\u001b[0mself\u001b[0m\u001b[0;34m.\u001b[0m\u001b[0mrun_metadata\u001b[0m\u001b[0;34m)\u001b[0m\u001b[0;34m\u001b[0m\u001b[0m\n\u001b[1;32m   2674\u001b[0m         \u001b[0;32melse\u001b[0m\u001b[0;34m:\u001b[0m\u001b[0;34m\u001b[0m\u001b[0m\n\u001b[0;32m-> 2675\u001b[0;31m             \u001b[0mfetched\u001b[0m \u001b[0;34m=\u001b[0m \u001b[0mself\u001b[0m\u001b[0;34m.\u001b[0m\u001b[0m_callable_fn\u001b[0m\u001b[0;34m(\u001b[0m\u001b[0;34m*\u001b[0m\u001b[0marray_vals\u001b[0m\u001b[0;34m)\u001b[0m\u001b[0;34m\u001b[0m\u001b[0m\n\u001b[0m\u001b[1;32m   2676\u001b[0m         \u001b[0;32mreturn\u001b[0m \u001b[0mfetched\u001b[0m\u001b[0;34m[\u001b[0m\u001b[0;34m:\u001b[0m\u001b[0mlen\u001b[0m\u001b[0;34m(\u001b[0m\u001b[0mself\u001b[0m\u001b[0;34m.\u001b[0m\u001b[0moutputs\u001b[0m\u001b[0;34m)\u001b[0m\u001b[0;34m]\u001b[0m\u001b[0;34m\u001b[0m\u001b[0m\n\u001b[1;32m   2677\u001b[0m \u001b[0;34m\u001b[0m\u001b[0m\n",
      "\u001b[0;32m~/.local/lib/python3.6/site-packages/tensorflow/python/client/session.py\u001b[0m in \u001b[0;36m__call__\u001b[0;34m(self, *args, **kwargs)\u001b[0m\n\u001b[1;32m   1437\u001b[0m           ret = tf_session.TF_SessionRunCallable(\n\u001b[1;32m   1438\u001b[0m               \u001b[0mself\u001b[0m\u001b[0;34m.\u001b[0m\u001b[0m_session\u001b[0m\u001b[0;34m.\u001b[0m\u001b[0m_session\u001b[0m\u001b[0;34m,\u001b[0m \u001b[0mself\u001b[0m\u001b[0;34m.\u001b[0m\u001b[0m_handle\u001b[0m\u001b[0;34m,\u001b[0m \u001b[0margs\u001b[0m\u001b[0;34m,\u001b[0m \u001b[0mstatus\u001b[0m\u001b[0;34m,\u001b[0m\u001b[0;34m\u001b[0m\u001b[0m\n\u001b[0;32m-> 1439\u001b[0;31m               run_metadata_ptr)\n\u001b[0m\u001b[1;32m   1440\u001b[0m         \u001b[0;32mif\u001b[0m \u001b[0mrun_metadata\u001b[0m\u001b[0;34m:\u001b[0m\u001b[0;34m\u001b[0m\u001b[0m\n\u001b[1;32m   1441\u001b[0m           \u001b[0mproto_data\u001b[0m \u001b[0;34m=\u001b[0m \u001b[0mtf_session\u001b[0m\u001b[0;34m.\u001b[0m\u001b[0mTF_GetBuffer\u001b[0m\u001b[0;34m(\u001b[0m\u001b[0mrun_metadata_ptr\u001b[0m\u001b[0;34m)\u001b[0m\u001b[0;34m\u001b[0m\u001b[0m\n",
      "\u001b[0;31mKeyboardInterrupt\u001b[0m: "
     ]
    }
   ],
   "source": [
    "train_labels_oneHot = to_categorical(train.target)\n",
    "test_labels_oneHot = to_categorical(test.target)\n",
    "network = models.Sequential()\n",
    "network.add(layers.Dense(128, activation=keras.layers.LeakyReLU(alpha=0.3), input_shape=(train_tfidf.shape[1],)))\n",
    "network.add(layers.Dense(len(train.target_names), activation='softmax'))\n",
    "network.compile(optimizer='rmsprop',\n",
    "                loss='categorical_crossentropy',\n",
    "                metrics=['accuracy'])\n",
    "history = network.fit( train_tfidf,\n",
    "                      train_labels_oneHot,\n",
    "                      epochs=12,\n",
    "                      batch_size=128,\n",
    "                      validation_data=(test_tfidf, test_labels_oneHot))\n",
    "print(\"Final accuracy: \", network.evaluate(test_tfidf, test_labels_oneHot, verbose=0)[1] )\n",
    "print_history(history)\n"
   ]
  }
 ],
 "metadata": {
  "kernelspec": {
   "display_name": "Python 3",
   "language": "python",
   "name": "python3"
  },
  "language_info": {
   "codemirror_mode": {
    "name": "ipython",
    "version": 3
   },
   "file_extension": ".py",
   "mimetype": "text/x-python",
   "name": "python",
   "nbconvert_exporter": "python",
   "pygments_lexer": "ipython3",
   "version": "3.6.5"
  }
 },
 "nbformat": 4,
 "nbformat_minor": 2
}
